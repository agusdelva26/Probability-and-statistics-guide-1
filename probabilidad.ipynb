{
 "cells": [
  {
   "cell_type": "markdown",
   "metadata": {},
   "source": [
    " # Probabilidades"
   ]
  },
  {
   "cell_type": "markdown",
   "metadata": {},
   "source": [
    "## 1. Para cada uno de los siguientes experimentos, se pide definir el espacio muestral:"
   ]
  },
  {
   "cell_type": "markdown",
   "metadata": {},
   "source": [
    "### a) Se analiza un tubo de ensayo con una muestra para detectar la presencia o ausencia de una molécula contaminante.\n",
    "\n",
    "$S=\\{\\texttt{muestraContaminada},\\texttt{muestraNoContaminada}\\}$"
   ]
  },
  {
   "cell_type": "markdown",
   "metadata": {},
   "source": [
    " ### b) Se seleccionan sucesivamente dos artículos de cierta producción y se clasifica cada uno en normal o defectuoso.\n",
    " \n",
    "$S= \\{\\texttt{NN},\\texttt{DD},\\texttt{ND},\\texttt{DN}\\}$"
   ]
  },
  {
   "cell_type": "markdown",
   "metadata": {},
   "source": [
    "### c) Se arroja una moneda hasta obtener una cara.\n",
    "$c = \\texttt{cara}$\n",
    "\n",
    "$x =\\texttt{cruz}$\n",
    "\n",
    "$S={c,(x,c),(x,x,c),...}$"
   ]
  },
  {
   "cell_type": "markdown",
   "metadata": {},
   "source": [
    "### d) Se seleccionan dos billetes de una billetera que contiene un billete de 50, uno de 10 y uno de 5. Considerar el experimento con y sin reposicion.\n",
    "$\\text{sinReposicion} = \\{(50,10),(50,5),(10,5),(5,10),(10,50),(5,50)\\}$\n",
    "\n",
    "$\\text{conReposicion} = \\{(50,50),(50,10),(50,5),(10,10),(10,5),(5,5),(5,10),(10,50),(5,50)\\}$"
   ]
  },
  {
   "cell_type": "markdown",
   "metadata": {},
   "source": [
    "### e) De una caja que contiene bolillas blancas y negras se extraen sucesivamente bolillas hasta obtener dos blancas o cuatro bolillas cualesquiera.\n",
    "\n",
    "$n = \\texttt{negra}$\n",
    "\n",
    "$b = \\text{blanca}$\n",
    "\n",
    "$\\text{bolillas} = \\{(b,b),(b,n,b),(n,b,b),(b,n,b,n),(n,b,n,b),(n,n,b,b),(n,n,n,b),(n,n,b,n),(n,b,n,n),(b,n,n,n),(n,n,n,n)\\}$"
   ]
  },
  {
   "cell_type": "markdown",
   "metadata": {},
   "source": [
    "### f ) Se mide el tiempo en minutos de espera en la parada del colectivo 7 entre las 23hs. y las 24 hs.en Campus.\n",
    "\n",
    "$\\text{tiempo} = [1,60]$\n",
    "\n",
    "*entre 1 minutos y 60 min, todos eso valores son parte del espacio muestral*"
   ]
  },
  {
   "cell_type": "markdown",
   "metadata": {},
   "source": [
    "3. Supongamos que se lanza una moneda equilibrada tres veces y se observan las caras superiores\n",
    "registrando cara o cruz según corresponda."
   ]
  },
  {
   "cell_type": "code",
   "execution_count": null,
   "metadata": {},
   "outputs": [],
   "source": [
    "#a) Establecer el espacio muestral de este experimento.\n",
    "ca = \"cara\"\n",
    "cr = \"cruz\"\n",
    "S={(ca,ca,ca),(ca,ca,cr),(ca,cr,ca),(cr,ca,ca),(ca,cr,cr),(cr,cr,ca),(cr,ca,cr),(cr,cr,cr)}"
   ]
  },
  {
   "cell_type": "code",
   "execution_count": null,
   "metadata": {},
   "outputs": [],
   "source": [
    "#b) Asignar una probabilidad a cada punto.¿Se trata de un espacio de equiprobabilidad?\n",
    "S={\"s1\",\"s2\",\"s3\",\"s4\",\"s5\",\"s6\",\"s7\",\"s8\",\"s9\"}\n",
    "\n",
    "#P(S)=1/8 probabilidad de que uno de esos sucesos pase"
   ]
  },
  {
   "cell_type": "code",
   "execution_count": null,
   "metadata": {},
   "outputs": [],
   "source": [
    "#c) Sea A el evento de observar exactamente una vez cara y B el evento de observar al menos\n",
    "#una cara.Obtener los puntos muestrales de A y B\n",
    "A={(ca,cr,cr),(cr,ca,cr),(cr,cr,ca)}\n",
    "B={(ca,ca,ca),(ca,ca,cr),(ca,cr,ca),(cr,cr,ca),(ca,cr,cr),(cr,ca,cr),(cr,cr,ca)}"
   ]
  },
  {
   "cell_type": "markdown",
   "metadata": {},
   "source": [
    "### d) A partir de las respuestas anteriores ,calcular P(A), P(B), P(A ∪ B) y P(A ∩ B).\n",
    "PA = 3/8\n",
    "PB = 7/8\n",
    "P(A ∪ B) = 7/8 \n",
    "P(A ∩ B) = 3/8 "
   ]
  },
  {
   "cell_type": "markdown",
   "metadata": {},
   "source": [
    "## 4. Una moneda está cargada de modo tal que la probabilidad de que salga cara es el triple de la probabilidad de cruz. Calcular ambas probabilidades.\n"
   ]
  },
  {
   "cell_type": "markdown",
   "metadata": {},
   "source": [
    "P(c) = 3/4\n",
    "P(x) = 1/4"
   ]
  },
  {
   "cell_type": "markdown",
   "metadata": {},
   "source": [
    "## 5. Los frascos de mermelada tienen por lo general dos tipos de fallas: peso insuficiente o tapa no hermética El 12% contiene menos cantidad de la informada en la etiqueta , el 8% tiene problemas con la tapa y el 3% presenta ambas deficiencias.Los frascos en los que se detecta alguna de estas fallas son descartados. Hallar la probabilidad de que un frasco elegido al azar:"
   ]
  },
  {
   "cell_type": "markdown",
   "metadata": {},
   "source": [
    "### a) tenga exactamente una falla."
   ]
  },
  {
   "cell_type": "markdown",
   "metadata": {},
   "source": [
    "Pi = 12% = 0.12\n",
    "TnH= 8% = 0.08\n",
    "ambos = 3% = 0.03\n",
    "\n",
    "Pi ∩ TnH = 0.03\n",
    "\n",
    "P(Pi) - P(Pi ∩ TnH) + P(TnH) - P(Pi ∩ TnH) = 0.12 - 0.03 + 0.08 - 0.03 = 0.14"
   ]
  },
  {
   "cell_type": "markdown",
   "metadata": {},
   "source": [
    "### b) no sea descartado."
   ]
  },
  {
   "cell_type": "markdown",
   "metadata": {},
   "source": [
    "Pi = 12% = 0.12\n",
    "TnH= 8% = 0.08\n",
    "ambos = 3% = 0.03\n",
    "\n",
    "P(no sea descartado) = 1 - (P(Pi) + P(TnH)) - P(ambos) = 0.83"
   ]
  },
  {
   "cell_type": "markdown",
   "metadata": {},
   "source": [
    "## 6. Se dispone de un blanco cuadrado de 2.5m de lado. Un dispositivo electrónico realiza disparos independientes que impactan en forma aleatoria en cualquier punto del cuadrado. Hallarla probabilidad de que:"
   ]
  },
  {
   "cell_type": "markdown",
   "metadata": {},
   "source": [
    "### a) Un disparo impacte a menos de 1m del centro del blanco.\n"
   ]
  },
  {
   "cell_type": "markdown",
   "metadata": {},
   "source": [
    "## 7. Se tiene un dado cargado tal que la probabilidad de cada número par es proporcional a ese número(con la misma constante de proporcionalidad en todos los casos) y las probabilidades de los números impares son las mismas que en un dado normal.Consideremos los eventos A= “número par”, B = “divisor de 6”y C = “múltiplo de 5”."
   ]
  },
  {
   "cell_type": "markdown",
   "metadata": {},
   "source": [
    "### a) Hallar la probabilidad de cada elemento del espacio muestral.\n"
   ]
  },
  {
   "cell_type": "markdown",
   "metadata": {},
   "source": [
    "P(S) = 1 = P(1) + P(2) + P(3) + P(4) + P(5) + P(6) = 1/6 + 2*k + 1/6 + 4*k + 1/6 + 6*k\n",
    "P(S) = 1/2 + 12*k = 1 ==> k = 1/24\n",
    "entonces P(2) = 2*(1/24) = 1/12 ; P(4) = 4*(1/24) = 1/6 ; P(6) = 6*(1/24) = 1/4\n",
    "P(numero par) = P(2) + P(4) + P(6) = 1/12 + 1/6 + 1/4 = 1/2\n",
    "P(divison de 6) = P(1) + P(2) + P(3) + P(6) = 1/6 + 1/12 + 1/6 + 1/4 = 2/3\n",
    "P(multiplo de 5) = P(5) = 1/6"
   ]
  },
  {
   "cell_type": "markdown",
   "metadata": {},
   "source": [
    "### b) Hallar P(A ∪ C), P(A^c ∩ B^c) y P(B-C)"
   ]
  },
  {
   "cell_type": "markdown",
   "metadata": {},
   "source": [
    "P(A ∪ C) = P(A) + P(C) = 1/2 + 1/6 = 2/3\n",
    "A^c = {1,3,5}\n",
    "B^c = {4,5}\n",
    "entonces\n",
    "A^c  ∩ B^c = {5}\n",
    "P(A^c  ∩ B^c) = 1/6\n",
    "P(B - C) = P(C) - P(C ∩ B) en este caso no tienen interseccion y queda P(B - C) = P(B) = 2/3"
   ]
  },
  {
   "cell_type": "markdown",
   "metadata": {},
   "source": [
    "## 8. Una clase consta de seis varones y diez mujeres. La tercera parte del primer grupo y la quinta parte del segundo usa anteojos. Hallar la probabiidad de que un alumno seleccionado al azar:\n",
    "a) use anteojos o sea mujer.\n",
    "\n",
    "b) sea varon y no use anteojos.\n"
   ]
  },
  {
   "cell_type": "markdown",
   "metadata": {},
   "source": [
    "S={v,v,v,v,v,v,m,m,m,m,m,m,m,m,m,m}\n",
    "P(Varon) = 6/16=3/8\n",
    "P(Mujer) = 10/16=5/8\n",
    "P(anteojos) = 4/16 = 1/4\n",
    "P(Varon con anteojos) = (1/3)*(3/8)= 1/8\n",
    "P(Mujer con anteojos) = (1/5)*(5/8)= 1/8\n",
    "\n",
    "A) P(usar anteojos) ∪ P(Mujer) = P(usar anteojos) + P(Mujer) - P(Mujer con anteojos) = 3/4\n",
    "B) P(Varon) ∩ P(Varon sin anteojos) = 4/16 = 1/4"
   ]
  },
  {
   "cell_type": "markdown",
   "metadata": {},
   "source": [
    "## 13. Sea una oficina OF1 trabajan 3 mujeres y un varon, y en otra oficina OF2 trabajan dos mujeres y dos varones. Se decidio transferir un empleado al azar de la primer oficina a la segunda. Si se selecciona, despues de este traspaso, de la segunda oficina un empleado, que probabilidad hay de que sea mujer?"
   ]
  },
  {
   "cell_type": "markdown",
   "metadata": {},
   "source": [
    "Of1={m,m,m,v} Of2={m,m,v,v}\n",
    "P(mujer OF1) = 3/4\n",
    "P(Varon OF1)= 1/4\n",
    "P(mujer OF2| mujer OF1) = P(mujer OF2)*P(mujer OF1) = (3/5)*(3/4) = 9/20\n",
    "P(mujer OF2| varon OF1) = P(mujer OF2)*P(varon OF1) = (2/5)*(1/4) = 1/10\n",
    "entonces la respuesta es 11/20\n"
   ]
  },
  {
   "cell_type": "markdown",
   "metadata": {},
   "source": [
    "## 15. Una caja contiene 7 cubos azules y 3 verdes y una segunda caja contiene 6 cubos azules y 4 verdes. Se elige al azar un cubo de la primera caja y se lo pone en la segunda caja. Luego se selecciona al azar un cubo de la segunda caja y se lo pone en la primera caja."
   ]
  },
  {
   "cell_type": "markdown",
   "metadata": {},
   "source": [
    "### A) Hallar la probabilidad de que durante el proceso se seleccione un cubo azul de la primera caja y un cubo verde de la segunda."
   ]
  },
  {
   "cell_type": "markdown",
   "metadata": {},
   "source": [
    "C1={a,a,a,a,a,a,a,v,v,v} C2={a,a,a,a,a,a,v,v,v,v}\n",
    "P(a C1) = 7/10\n",
    "P(v C1) = 3/10\n",
    "P( v C2 | a C1) = (7/10)*(4/11) = 14/55"
   ]
  },
  {
   "cell_type": "markdown",
   "metadata": {},
   "source": [
    "### B) Hallar la probabilidad de que al finalizar el proceso las cajas queden como estaban inicialmente"
   ]
  },
  {
   "cell_type": "markdown",
   "metadata": {},
   "source": [
    "P(a C2| a C1) = (7/10)*(7/11) = 49/110\n",
    "P(v C2| v C1) = (3/10)*(5/11) = 3/22\n",
    "entonces la probabilidad es 32/55"
   ]
  },
  {
   "cell_type": "markdown",
   "metadata": {},
   "source": [
    "## 22. Una urna tiene siete bolas rojas y tres blancas. Si se sacan tres bolas, una tras otra sin reposicion, ¿cual es la probabilidad de que\n",
    "A) las dos primeras sean rojas y la tercera blanca\n",
    "B) Exactamente 1 sea blanca?"
   ]
  },
  {
   "cell_type": "markdown",
   "metadata": {},
   "source": [
    "U={r,r,r,r,r,r,r,b,b,b}\n",
    "A) P(2r y 1b) = (7/10)*(6/9)*(3/8) = 7/40\n",
    "B) P(exactamente 1 blanca) = 3*(3/10)*(7/9)*(6/8) = 21/40"
   ]
  },
  {
   "cell_type": "markdown",
   "metadata": {},
   "source": [
    "## 25. La probabilidad de que un hombre y una mujer vivan 10 años mas, a partir de ahora, son 1/3 y 1/4 respectivamente. Suponiendo independencia entre ambas superviviencias, calcular la probabilidad de que:\n",
    "- a) ambos esten vivos dentro de 10 años\n",
    "- b) al menos uno de ellos este vivo dentro de 10 años.\n",
    "- c) ninguno este vivo dentro de diez años.\n",
    "- d) solo la mujer este viva dentro de 10 años.\n"
   ]
  },
  {
   "cell_type": "markdown",
   "metadata": {},
   "source": [
    "a) P(hombre viva) * P(mujer viva) = 1/3 * 1/4 = 1/12\n",
    "b) P(hombre vida) + p(mujer viva) - p(ambos vivan) = 1/3 + 1/4 - 1/12 = 1/2\n",
    "c) (1 - P(hombre viva)) * (1-p(mujer viva)) = (1-1/3)*(1-1/4) = 1/2\n",
    "d) P(mujer viva)*p(hombre no vivo) = 1/4*(1-1/3) = 1/6"
   ]
  },
  {
   "cell_type": "markdown",
   "metadata": {},
   "source": [
    "## Se tienen tres cajoneras idénticas, cada cajonera a su vez tiene dos cajones. En una de las cajoneras hay una moneda de plata en cada cajón, en otra hay una de plata en un cajón y una de oro en el otro, mientras que en la última hay una de oro en cada cajón. Se elige una cajonera al azar y de ésta se saca una moneda de uno de los cajones: Si la moneda es de oro, ¿cuál es la probabilidad de que en el otro cajón haya una moneda de oro?"
   ]
  },
  {
   "cell_type": "markdown",
   "metadata": {},
   "source": [
    "c1={p,p} c2={p,o} c3={o,o}\n",
    "P(elegir cajonera con 1 oro) = 2/3\n",
    "P(elegir cajonera con 2 oros sabiendo que tiene 1 oro) = 1/2 \n",
    "P(cajon3 | oro) = P(c3 ∩ o) / p(o) = P(o|c3)= 1 P(c3)= 1/3 p(o|c2) = 1/2 p(c2) = 1/3 \n",
    "$p(C_{3} \\cap O) = \\frac{p(o \\mid C_{3}) \\dot p(C_{3})}{p(0 \\mid C_{3}) \\dot p(C_{3})+p(o \\mid C_{2}) \\dot p(C_{2})} = \\frac{2}{3}$  "
   ]
  },
  {
   "cell_type": "markdown",
   "metadata": {},
   "source": [
    "## La caja A contiene 8 articulos de los cuales 3 son defectuosos, la caja B contiene 5 articulos de los cuales 2 son defectuosos y la caja C contiene 10 articulos de los cuales 4 son defectuosos. Se extrae al azar un articulo de cada ca.ja"
   ]
  },
  {
   "cell_type": "markdown",
   "metadata": {},
   "source": [
    "### a) ¿Cuál es la probabilidad de que todos los artículos seleccionandos sean defectuosos?"
   ]
  },
  {
   "cell_type": "markdown",
   "metadata": {},
   "source": [
    "$C_a=\\{b,b,b,b,b,d,d,d\\}$ $C_b=\\{b,b,b,d,d\\}$ $C_c=\\{b,b,b,b,b,b,d,d,d,d\\}$\n",
    "\n",
    "$P(Td)=P(D_{a} \\cap D_{b} \\cap D_{c}) = P(D_{a}) \\cdot P(D_{b}) \\cdot P(D_{c}) = \\frac{3}{50}$"
   ]
  },
  {
   "cell_type": "markdown",
   "metadata": {},
   "source": [
    "### b) ¿Cual es la probabilidad de que solo un articulo de los seleccionados sea defectuoso?"
   ]
  },
  {
   "cell_type": "markdown",
   "metadata": {},
   "source": [
    "$C_a=\\{b,b,b,b,b,d,d,d\\}$ $C_b=\\{b,b,b,d,d\\}$ $C_c=\\{b,b,b,b,b,b,d,d,d,d\\}$\n",
    "\n",
    "$P(solo un d)=P(D_{a} \\cap D_{b^c} \\cap D_{c^c}) \\cup P(D_{a^c} \\cap D_{b} \\cap D_{c^c}) \\cup P(D_{a^c} \\cap D_{b^c} \\cap D_{c})$\n",
    "\n",
    "$P(D_{a}) \\cdot P(D_{b^c}) \\cdot P(D_{c^c}) + P(D_{a^c}) \\cdot P(D_{b}) \\cdot P(D_{c^c}) + P(D_{a^c}) \\cdot P(D_{b^c}) \\cdot P(D_{c})$\n",
    "\n",
    "$\\frac{3}{8} \\cdot (1 -\\frac{2}{5}) \\cdot (1 - \\frac{4}{10}) + (1- \\frac{3}{8}) \\cdot \\frac{2}{5} \\cdot (1- \\frac{4}{10}) + (1- \\frac{3}{8}) \\cdot (1 -\\frac{2}{5}) \\cdot \\frac{4}{10} = \\frac{87}{200}$ "
   ]
  },
  {
   "cell_type": "markdown",
   "metadata": {},
   "source": [
    "### c) Si un solo articulo es defectuoso, ¿Cual es la probabilidad de que el articulo defectuoso proceda de la caja A?"
   ]
  },
  {
   "cell_type": "markdown",
   "metadata": {},
   "source": [
    "$P(A \\mid D) = \\frac{P(A \\cap solo un d)}{P(solo un d)} = \\frac{P(D_{a} \\cap D_{b^c} \\cap D_{C^c}))}{\\frac{87}{200}} = \\frac{\\frac{3}{8} \\cdot \\frac{3}{5} \\cdot \\frac{3}{5}}{\\frac{87}{200}} = \\frac{9}{29}$"
   ]
  },
  {
   "cell_type": "markdown",
   "metadata": {},
   "source": [
    "## En cierta facultad el 40% de los hombre sy el 55% de las mujeres practican deporte. Ademas el %70 de los estudiantes son mujeres. Si se elige un estudiante al azar y hace deporte, ¿cual es la probabilidad de que sea mujer?."
   ]
  },
  {
   "cell_type": "markdown",
   "metadata": {},
   "source": [
    "$P(mujer \\mid deporte) = \\frac{P(mujer \\cap deporte)}{P(deporte)} = \\frac{0.55 \\cdot 0.70}{(0.55 \\cdot 0.70) + (0.30 \\cdot 0.40)} = \\frac{77}{101}$"
   ]
  },
  {
   "cell_type": "code",
   "execution_count": null,
   "metadata": {},
   "outputs": [],
   "source": []
  }
 ],
 "metadata": {
  "kernelspec": {
   "display_name": "Python 3 (ipykernel)",
   "language": "python",
   "name": "python3"
  },
  "language_info": {
   "codemirror_mode": {
    "name": "ipython",
    "version": 3
   },
   "file_extension": ".py",
   "mimetype": "text/x-python",
   "name": "python",
   "nbconvert_exporter": "python",
   "pygments_lexer": "ipython3",
   "version": "3.11.7"
  }
 },
 "nbformat": 4,
 "nbformat_minor": 4
}
