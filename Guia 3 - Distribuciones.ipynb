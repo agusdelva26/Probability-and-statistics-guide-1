{
 "cells": [
  {
   "cell_type": "markdown",
   "id": "9d984a65-58f6-4871-844c-75e172c90e11",
   "metadata": {},
   "source": [
    "# Distribución Binomial\n",
    "\n",
    "La **distribución binomial** modela el número de éxitos en \\( n \\) ensayos independientes de una prueba de Bernoulli con probabilidad de éxito \\( p \\).\n",
    "\n",
    "## Función de masa de probabilidad (PMF)\n",
    "\n",
    "La función de probabilidad de la distribución binomial está dada por:\n",
    "\n",
    "$\n",
    "P(X = k) = \\binom{n}{k} p^k (1 - p)^{n - k}, \\quad k = 0, 1, 2, \\dots, n\n",
    "$\n",
    "\n",
    "donde:\n",
    "\n",
    "- \\( X \\) es el número de éxitos en \\( n \\) ensayos.\n",
    "- \\( n \\) es el número total de ensayos.\n",
    "- \\( p \\) es la probabilidad de éxito en cada ensayo.\n",
    "- \\( k \\) es la cantidad de éxitos observados.\n",
    "-  $\\binom{n}{k} = \\frac{n!}{k!(n-k)!}$ es el coeficiente binomial.\n",
    "\n",
    "## Esperanza y Varianza\n",
    "\n",
    "La esperanza matemática $E(X)$ y la varianza $\\text{Var}(X)$ están dadas por:\n",
    "\n",
    "$\n",
    "E(X) = n \\cdot p\n",
    "$\n",
    "\n",
    "$\n",
    "\\text{Var}(X) = n \\cdot p \\cdot (1 - p)\n",
    "$"
   ]
  },
  {
   "cell_type": "markdown",
   "id": "06ddb787-5dc1-4c06-8059-09a9faa3daf4",
   "metadata": {},
   "source": [
    "## Algunos ejercicios practicos de la guia N°3 de probabilidad y estadistica UTN-FRBA"
   ]
  },
  {
   "cell_type": "markdown",
   "id": "ca55065a-c857-485b-9751-3f63554a4f94",
   "metadata": {},
   "source": [
    "La compañía de aviación GranJet ha determinado mediante un estudio estadístico que el 4 % de\n",
    "los pasajeros que reservan un viaje Buenos Aires - Misiones no se presentan a tomar el vuelo.\n",
    "Un día de mucha demanda de pasajes la empresa decide vender 72 pasajes de un vuelo con\n",
    "capacidad para 70 pasajeros. ¿Cuál es la probabilidad de que puedan viajar todos los pasajeros\n",
    "que se presentan a tomar el vuelo?"
   ]
  },
  {
   "cell_type": "code",
   "execution_count": 4,
   "id": "cf59c3af-168f-4e4f-b4e0-c6952c9c666f",
   "metadata": {},
   "outputs": [
    {
     "name": "stdout",
     "output_type": "stream",
     "text": [
      "La probabilidad de que puedan viajar todos los pasajeros es: 0.7884\n"
     ]
    }
   ],
   "source": [
    "import scipy.stats as stats\n",
    "\n",
    "# Parámetros del problema\n",
    "n = 72  # Pasajes vendidos\n",
    "p = 0.96  # Probabilidad de que un pasajero se presente\n",
    "k = 70  # Capacidad del avión\n",
    "\n",
    "# Calculamos la probabilidad P(X <= 70)\n",
    "probabilidad = stats.binom.cdf(k, n, p)\n",
    "\n",
    "print(f\"La probabilidad de que puedan viajar todos los pasajeros es: {probabilidad:.4f}\")"
   ]
  },
  {
   "cell_type": "markdown",
   "id": "4afea529-05e3-496e-ad1f-3530c967f44c",
   "metadata": {},
   "source": [
    "Se ha probado que el 25 % de los neumáticos de motocicleta sufren pinchaduras en caminos de\n",
    "ripio durante los primeros 1000km de uso. ¿Cuál es la probabilidad de que entre los próximos\n",
    "6 neumáticos que se prueben:"
   ]
  },
  {
   "cell_type": "code",
   "execution_count": 8,
   "id": "2f3a4ef3-99b3-493f-8a00-bf43bd383ad3",
   "metadata": {},
   "outputs": [
    {
     "name": "stdout",
     "output_type": "stream",
     "text": [
      "La probabilidad de que al menos 2 sufran pinchaduras es: 0.4661\n"
     ]
    }
   ],
   "source": [
    "# a) Al menos 2 sufran pinchaduras?\n",
    "\n",
    "import scipy.stats as stats\n",
    "\n",
    "n = 6  # Total de neumáticos\n",
    "p = 0.25  # Probabilidad de pinchadura\n",
    "\n",
    "# P(X = 0) y P(X = 1)\n",
    "p_x0 = stats.binom.pmf(0, n, p)\n",
    "p_x1 = stats.binom.pmf(1, n, p)\n",
    "\n",
    "# P(X >= 2)\n",
    "prob_a = 1 - (p_x0 + p_x1)\n",
    "\n",
    "print(f\"La probabilidad de que al menos 2 sufran pinchaduras es: {prob_a:.4f}\")\n"
   ]
  },
  {
   "cell_type": "code",
   "execution_count": 10,
   "id": "69fcb962-590b-429a-8e07-222914b6ccb8",
   "metadata": {},
   "outputs": [
    {
     "name": "stdout",
     "output_type": "stream",
     "text": [
      "La probabilidad de que a lo sumo 3 no sufran pinchaduras es: 0.9624\n"
     ]
    }
   ],
   "source": [
    "# b) A lo sumo 3 no sufran pinchaduras?\n",
    "import scipy.stats as stats\n",
    "\n",
    "n = 6  # Total de neumáticos\n",
    "p = 0.25  # Probabilidad de pinchadura\n",
    "k = 3 # total maximo de pinchaduras\n",
    "\n",
    "# Calculamos la probabilidad P(X <= 3)\n",
    "probabilidad = stats.binom.cdf(k, n, p)\n",
    "\n",
    "print(f\"La probabilidad de que a lo sumo 3 no sufran pinchaduras es: {probabilidad:.4f}\")"
   ]
  },
  {
   "cell_type": "code",
   "execution_count": 20,
   "id": "928da507-02ef-43b6-9f18-c0c4de3ebf3b",
   "metadata": {},
   "outputs": [
    {
     "name": "stdout",
     "output_type": "stream",
     "text": [
      "La probabilidad de no superar el número esperado de pinchaduras es: 0.5339\n"
     ]
    }
   ],
   "source": [
    "# c) No se supere el número esperado de pinchaduras?\n",
    "import scipy.stats as stats\n",
    "n = 6  # Total de neumáticos\n",
    "p = 0.25  # Probabilidad de pinchadura\n",
    "k = n*p # total maximo de pinchaduras\n",
    "\n",
    "#Calculamos la probabilidad P(X <= 3)\n",
    "probabilidad = stats.binom.cdf(k, n, p)\n",
    "\n",
    "print(f\"La probabilidad de no superar el número esperado de pinchaduras es: {probabilidad:.4f}\")"
   ]
  },
  {
   "cell_type": "code",
   "execution_count": null,
   "id": "1d3470a4-adca-41c9-86fc-7b3675b6963b",
   "metadata": {},
   "outputs": [],
   "source": []
  }
 ],
 "metadata": {
  "kernelspec": {
   "display_name": "Python 3 (ipykernel)",
   "language": "python",
   "name": "python3"
  },
  "language_info": {
   "codemirror_mode": {
    "name": "ipython",
    "version": 3
   },
   "file_extension": ".py",
   "mimetype": "text/x-python",
   "name": "python",
   "nbconvert_exporter": "python",
   "pygments_lexer": "ipython3",
   "version": "3.11.7"
  }
 },
 "nbformat": 4,
 "nbformat_minor": 5
}
